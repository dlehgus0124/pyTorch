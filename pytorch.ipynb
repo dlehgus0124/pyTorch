{
  "nbformat": 4,
  "nbformat_minor": 0,
  "metadata": {
    "colab": {
      "provenance": [],
      "authorship_tag": "ABX9TyOosDEQHfHVxbKVrPGk67hA",
      "include_colab_link": true
    },
    "kernelspec": {
      "name": "python3",
      "display_name": "Python 3"
    },
    "language_info": {
      "name": "python"
    }
  },
  "cells": [
    {
      "cell_type": "markdown",
      "metadata": {
        "id": "view-in-github",
        "colab_type": "text"
      },
      "source": [
        "<a href=\"https://colab.research.google.com/github/dlehgus0124/pyTorch/blob/main/pytorch.ipynb\" target=\"_parent\"><img src=\"https://colab.research.google.com/assets/colab-badge.svg\" alt=\"Open In Colab\"/></a>"
      ]
    },
    {
      "cell_type": "code",
      "execution_count": null,
      "metadata": {
        "id": "PYa-Bu49--GF"
      },
      "outputs": [],
      "source": [
        "import torch"
      ]
    },
    {
      "cell_type": "code",
      "source": [
        "x = torch.tensor(5.0)\n",
        "x"
      ],
      "metadata": {
        "colab": {
          "base_uri": "https://localhost:8080/"
        },
        "id": "hiJiVsPx_Jc8",
        "outputId": "d4b95c6b-e9f0-4396-99ad-94442affe81e"
      },
      "execution_count": null,
      "outputs": [
        {
          "output_type": "execute_result",
          "data": {
            "text/plain": [
              "tensor(5.)"
            ]
          },
          "metadata": {},
          "execution_count": 2
        }
      ]
    },
    {
      "cell_type": "code",
      "source": [
        "v = torch.tensor([1.0, 2.0, 3.0])\n",
        "v"
      ],
      "metadata": {
        "colab": {
          "base_uri": "https://localhost:8080/"
        },
        "id": "RxNuvukm_Pl-",
        "outputId": "c297fcb1-d9af-4cb0-badb-6554dbc879cf"
      },
      "execution_count": null,
      "outputs": [
        {
          "output_type": "execute_result",
          "data": {
            "text/plain": [
              "tensor([1., 2., 3.])"
            ]
          },
          "metadata": {},
          "execution_count": 3
        }
      ]
    },
    {
      "cell_type": "code",
      "source": [
        "M = torch.tensor([[1.0, 2.0],[3.0, 4.0]])\n",
        "M"
      ],
      "metadata": {
        "colab": {
          "base_uri": "https://localhost:8080/"
        },
        "id": "3IWZUsyY_W9B",
        "outputId": "842c3ffc-e751-4674-f0cc-67a9beaf0017"
      },
      "execution_count": null,
      "outputs": [
        {
          "output_type": "execute_result",
          "data": {
            "text/plain": [
              "tensor([[1., 2.],\n",
              "        [3., 4.]])"
            ]
          },
          "metadata": {},
          "execution_count": 4
        }
      ]
    },
    {
      "cell_type": "code",
      "source": [
        "x = torch.tensor([1, 2, 3])\n",
        "y = torch.tensor([4, 5, 6])\n",
        "\n",
        "z1 = x + y\n",
        "print(z)\n",
        "\n",
        "z2 = x - y\n",
        "print(z2)\n",
        "\n",
        "z3 = x * y\n",
        "print(z3)\n",
        "\n",
        "z4 = x / y\n",
        "print(z4)"
      ],
      "metadata": {
        "colab": {
          "base_uri": "https://localhost:8080/"
        },
        "id": "bIdYeU4I_gA0",
        "outputId": "e01286ae-5e99-446a-8cd0-7269ab069805"
      },
      "execution_count": null,
      "outputs": [
        {
          "output_type": "stream",
          "name": "stdout",
          "text": [
            "tensor([5, 7, 9])\n",
            "tensor([-3, -3, -3])\n",
            "tensor([ 4, 10, 18])\n",
            "tensor([0.2500, 0.4000, 0.5000])\n"
          ]
        }
      ]
    },
    {
      "cell_type": "code",
      "source": [
        "!pip install torchviz"
      ],
      "metadata": {
        "colab": {
          "base_uri": "https://localhost:8080/"
        },
        "id": "MXvptm-3APyz",
        "outputId": "a4297aa1-4d4f-48af-9c09-bf45f428ab8b"
      },
      "execution_count": null,
      "outputs": [
        {
          "output_type": "stream",
          "name": "stdout",
          "text": [
            "Collecting torchviz\n",
            "  Downloading torchviz-0.0.2.tar.gz (4.9 kB)\n",
            "  Preparing metadata (setup.py) ... \u001b[?25l\u001b[?25hdone\n",
            "Requirement already satisfied: torch in /usr/local/lib/python3.10/dist-packages (from torchviz) (2.3.0+cu121)\n",
            "Requirement already satisfied: graphviz in /usr/local/lib/python3.10/dist-packages (from torchviz) (0.20.3)\n",
            "Requirement already satisfied: filelock in /usr/local/lib/python3.10/dist-packages (from torch->torchviz) (3.15.3)\n",
            "Requirement already satisfied: typing-extensions>=4.8.0 in /usr/local/lib/python3.10/dist-packages (from torch->torchviz) (4.12.2)\n",
            "Requirement already satisfied: sympy in /usr/local/lib/python3.10/dist-packages (from torch->torchviz) (1.12.1)\n",
            "Requirement already satisfied: networkx in /usr/local/lib/python3.10/dist-packages (from torch->torchviz) (3.3)\n",
            "Requirement already satisfied: jinja2 in /usr/local/lib/python3.10/dist-packages (from torch->torchviz) (3.1.4)\n",
            "Requirement already satisfied: fsspec in /usr/local/lib/python3.10/dist-packages (from torch->torchviz) (2023.6.0)\n",
            "Collecting nvidia-cuda-nvrtc-cu12==12.1.105 (from torch->torchviz)\n",
            "  Using cached nvidia_cuda_nvrtc_cu12-12.1.105-py3-none-manylinux1_x86_64.whl (23.7 MB)\n",
            "Collecting nvidia-cuda-runtime-cu12==12.1.105 (from torch->torchviz)\n",
            "  Using cached nvidia_cuda_runtime_cu12-12.1.105-py3-none-manylinux1_x86_64.whl (823 kB)\n",
            "Collecting nvidia-cuda-cupti-cu12==12.1.105 (from torch->torchviz)\n",
            "  Using cached nvidia_cuda_cupti_cu12-12.1.105-py3-none-manylinux1_x86_64.whl (14.1 MB)\n",
            "Collecting nvidia-cudnn-cu12==8.9.2.26 (from torch->torchviz)\n",
            "  Using cached nvidia_cudnn_cu12-8.9.2.26-py3-none-manylinux1_x86_64.whl (731.7 MB)\n",
            "Collecting nvidia-cublas-cu12==12.1.3.1 (from torch->torchviz)\n",
            "  Using cached nvidia_cublas_cu12-12.1.3.1-py3-none-manylinux1_x86_64.whl (410.6 MB)\n",
            "Collecting nvidia-cufft-cu12==11.0.2.54 (from torch->torchviz)\n",
            "  Using cached nvidia_cufft_cu12-11.0.2.54-py3-none-manylinux1_x86_64.whl (121.6 MB)\n",
            "Collecting nvidia-curand-cu12==10.3.2.106 (from torch->torchviz)\n",
            "  Using cached nvidia_curand_cu12-10.3.2.106-py3-none-manylinux1_x86_64.whl (56.5 MB)\n",
            "Collecting nvidia-cusolver-cu12==11.4.5.107 (from torch->torchviz)\n",
            "  Using cached nvidia_cusolver_cu12-11.4.5.107-py3-none-manylinux1_x86_64.whl (124.2 MB)\n",
            "Collecting nvidia-cusparse-cu12==12.1.0.106 (from torch->torchviz)\n",
            "  Using cached nvidia_cusparse_cu12-12.1.0.106-py3-none-manylinux1_x86_64.whl (196.0 MB)\n",
            "Collecting nvidia-nccl-cu12==2.20.5 (from torch->torchviz)\n",
            "  Using cached nvidia_nccl_cu12-2.20.5-py3-none-manylinux2014_x86_64.whl (176.2 MB)\n",
            "Collecting nvidia-nvtx-cu12==12.1.105 (from torch->torchviz)\n",
            "  Using cached nvidia_nvtx_cu12-12.1.105-py3-none-manylinux1_x86_64.whl (99 kB)\n",
            "Requirement already satisfied: triton==2.3.0 in /usr/local/lib/python3.10/dist-packages (from torch->torchviz) (2.3.0)\n",
            "Collecting nvidia-nvjitlink-cu12 (from nvidia-cusolver-cu12==11.4.5.107->torch->torchviz)\n",
            "  Downloading nvidia_nvjitlink_cu12-12.5.40-py3-none-manylinux2014_x86_64.whl (21.3 MB)\n",
            "\u001b[2K     \u001b[90m━━━━━━━━━━━━━━━━━━━━━━━━━━━━━━━━━━━━━━━━\u001b[0m \u001b[32m21.3/21.3 MB\u001b[0m \u001b[31m45.5 MB/s\u001b[0m eta \u001b[36m0:00:00\u001b[0m\n",
            "\u001b[?25hRequirement already satisfied: MarkupSafe>=2.0 in /usr/local/lib/python3.10/dist-packages (from jinja2->torch->torchviz) (2.1.5)\n",
            "Requirement already satisfied: mpmath<1.4.0,>=1.1.0 in /usr/local/lib/python3.10/dist-packages (from sympy->torch->torchviz) (1.3.0)\n",
            "Building wheels for collected packages: torchviz\n",
            "  Building wheel for torchviz (setup.py) ... \u001b[?25l\u001b[?25hdone\n",
            "  Created wheel for torchviz: filename=torchviz-0.0.2-py3-none-any.whl size=4132 sha256=ec50357809396b8d5cb1d110b18a9830450685f580fdb3a676086beef3ccad44\n",
            "  Stored in directory: /root/.cache/pip/wheels/4c/97/88/a02973217949e0db0c9f4346d154085f4725f99c4f15a87094\n",
            "Successfully built torchviz\n",
            "Installing collected packages: nvidia-nvtx-cu12, nvidia-nvjitlink-cu12, nvidia-nccl-cu12, nvidia-curand-cu12, nvidia-cufft-cu12, nvidia-cuda-runtime-cu12, nvidia-cuda-nvrtc-cu12, nvidia-cuda-cupti-cu12, nvidia-cublas-cu12, nvidia-cusparse-cu12, nvidia-cudnn-cu12, nvidia-cusolver-cu12, torchviz\n",
            "Successfully installed nvidia-cublas-cu12-12.1.3.1 nvidia-cuda-cupti-cu12-12.1.105 nvidia-cuda-nvrtc-cu12-12.1.105 nvidia-cuda-runtime-cu12-12.1.105 nvidia-cudnn-cu12-8.9.2.26 nvidia-cufft-cu12-11.0.2.54 nvidia-curand-cu12-10.3.2.106 nvidia-cusolver-cu12-11.4.5.107 nvidia-cusparse-cu12-12.1.0.106 nvidia-nccl-cu12-2.20.5 nvidia-nvjitlink-cu12-12.5.40 nvidia-nvtx-cu12-12.1.105 torchviz-0.0.2\n"
          ]
        }
      ]
    },
    {
      "cell_type": "code",
      "source": [
        "from torchviz import make_dot\n",
        "import torch\n",
        "import torch.nn as nn\n",
        "import torch.optim as optim\n",
        "import matplotlib.pyplot as plt"
      ],
      "metadata": {
        "id": "lFVb9IeFATjT"
      },
      "execution_count": null,
      "outputs": []
    },
    {
      "cell_type": "code",
      "source": [
        "x = torch.tensor([1.0, 2.0, 3.0], requires_grad=True)\n",
        "y = torch.tensor([4.0, 5.0, 6.0], requires_grad=True)\n",
        "\n",
        "z = x + y\n",
        "print(z)"
      ],
      "metadata": {
        "colab": {
          "base_uri": "https://localhost:8080/"
        },
        "id": "0-8DxLdjA70s",
        "outputId": "9b53121e-7bff-4410-9b82-07591f544404"
      },
      "execution_count": null,
      "outputs": [
        {
          "output_type": "stream",
          "name": "stdout",
          "text": [
            "tensor([5., 7., 9.], grad_fn=<AddBackward0>)\n"
          ]
        }
      ]
    },
    {
      "cell_type": "code",
      "source": [
        "make_dot(z, params={x: x, y: y, z: z}, show_attrs=True, show_saved=True)"
      ],
      "metadata": {
        "colab": {
          "base_uri": "https://localhost:8080/",
          "height": 355
        },
        "id": "_JX0U3CXBQqa",
        "outputId": "9105cca9-34f3-4970-b65a-0d4d3f3354f9"
      },
      "execution_count": null,
      "outputs": [
        {
          "output_type": "execute_result",
          "data": {
            "image/svg+xml": "<?xml version=\"1.0\" encoding=\"UTF-8\" standalone=\"no\"?>\n<!DOCTYPE svg PUBLIC \"-//W3C//DTD SVG 1.1//EN\"\n \"http://www.w3.org/Graphics/SVG/1.1/DTD/svg11.dtd\">\n<!-- Generated by graphviz version 2.43.0 (0)\n -->\n<!-- Title: %3 Pages: 1 -->\n<svg width=\"540pt\" height=\"236pt\"\n viewBox=\"0.00 0.00 540.00 236.00\" xmlns=\"http://www.w3.org/2000/svg\" xmlns:xlink=\"http://www.w3.org/1999/xlink\">\n<g id=\"graph0\" class=\"graph\" transform=\"scale(1 1) rotate(0) translate(4 232)\">\n<title>%3</title>\n<polygon fill=\"white\" stroke=\"transparent\" points=\"-4,4 -4,-232 536,-232 536,4 -4,4\"/>\n<!-- 134321059483856 -->\n<g id=\"node1\" class=\"node\">\n<title>134321059483856</title>\n<polygon fill=\"#caff70\" stroke=\"black\" points=\"406,-30 125,-30 125,0 406,0 406,-30\"/>\n<text text-anchor=\"middle\" x=\"265.5\" y=\"-18\" font-family=\"monospace\" font-size=\"10.00\">tensor([5., 7., 9.], grad_fn=&lt;AddBackward0&gt;)</text>\n<text text-anchor=\"middle\" x=\"265.5\" y=\"-7\" font-family=\"monospace\" font-size=\"10.00\"> (3)</text>\n</g>\n<!-- 134321231949888 -->\n<g id=\"node2\" class=\"node\">\n<title>134321231949888</title>\n<polygon fill=\"lightgrey\" stroke=\"black\" points=\"310,-107 221,-107 221,-66 310,-66 310,-107\"/>\n<text text-anchor=\"middle\" x=\"265.5\" y=\"-95\" font-family=\"monospace\" font-size=\"10.00\">AddBackward0</text>\n<text text-anchor=\"middle\" x=\"265.5\" y=\"-84\" font-family=\"monospace\" font-size=\"10.00\">&#45;&#45;&#45;&#45;&#45;&#45;&#45;&#45;&#45;&#45;&#45;&#45;</text>\n<text text-anchor=\"middle\" x=\"265.5\" y=\"-73\" font-family=\"monospace\" font-size=\"10.00\">alpha: 1</text>\n</g>\n<!-- 134321231949888&#45;&gt;134321059483856 -->\n<g id=\"edge5\" class=\"edge\">\n<title>134321231949888&#45;&gt;134321059483856</title>\n<path fill=\"none\" stroke=\"black\" d=\"M265.5,-65.77C265.5,-57.85 265.5,-48.63 265.5,-40.3\"/>\n<polygon fill=\"black\" stroke=\"black\" points=\"269,-40.04 265.5,-30.04 262,-40.04 269,-40.04\"/>\n</g>\n<!-- 134321050393456 -->\n<g id=\"node3\" class=\"node\">\n<title>134321050393456</title>\n<polygon fill=\"lightgrey\" stroke=\"black\" points=\"218,-162 117,-162 117,-143 218,-143 218,-162\"/>\n<text text-anchor=\"middle\" x=\"167.5\" y=\"-150\" font-family=\"monospace\" font-size=\"10.00\">AccumulateGrad</text>\n</g>\n<!-- 134321050393456&#45;&gt;134321231949888 -->\n<g id=\"edge1\" class=\"edge\">\n<title>134321050393456&#45;&gt;134321231949888</title>\n<path fill=\"none\" stroke=\"black\" d=\"M180.72,-142.87C192.64,-135.08 210.78,-123.24 227.22,-112.5\"/>\n<polygon fill=\"black\" stroke=\"black\" points=\"229.17,-115.41 235.63,-107.01 225.34,-109.55 229.17,-115.41\"/>\n</g>\n<!-- 134321051082064 -->\n<g id=\"node4\" class=\"node\">\n<title>134321051082064</title>\n<polygon fill=\"lightblue\" stroke=\"black\" points=\"257,-228 0,-228 0,-198 257,-198 257,-228\"/>\n<text text-anchor=\"middle\" x=\"128.5\" y=\"-216\" font-family=\"monospace\" font-size=\"10.00\">tensor([1., 2., 3.], requires_grad=True)</text>\n<text text-anchor=\"middle\" x=\"128.5\" y=\"-205\" font-family=\"monospace\" font-size=\"10.00\"> (3)</text>\n</g>\n<!-- 134321051082064&#45;&gt;134321050393456 -->\n<g id=\"edge2\" class=\"edge\">\n<title>134321051082064&#45;&gt;134321050393456</title>\n<path fill=\"none\" stroke=\"black\" d=\"M137.94,-197.84C143.37,-189.69 150.23,-179.4 155.98,-170.78\"/>\n<polygon fill=\"black\" stroke=\"black\" points=\"159.02,-172.53 161.66,-162.27 153.2,-168.65 159.02,-172.53\"/>\n</g>\n<!-- 134321050395232 -->\n<g id=\"node5\" class=\"node\">\n<title>134321050395232</title>\n<polygon fill=\"lightgrey\" stroke=\"black\" points=\"415,-162 314,-162 314,-143 415,-143 415,-162\"/>\n<text text-anchor=\"middle\" x=\"364.5\" y=\"-150\" font-family=\"monospace\" font-size=\"10.00\">AccumulateGrad</text>\n</g>\n<!-- 134321050395232&#45;&gt;134321231949888 -->\n<g id=\"edge3\" class=\"edge\">\n<title>134321050395232&#45;&gt;134321231949888</title>\n<path fill=\"none\" stroke=\"black\" d=\"M351.15,-142.87C339.1,-135.08 320.78,-123.24 304.17,-112.5\"/>\n<polygon fill=\"black\" stroke=\"black\" points=\"305.98,-109.5 295.68,-107.01 302.18,-115.38 305.98,-109.5\"/>\n</g>\n<!-- 134321048104576 -->\n<g id=\"node6\" class=\"node\">\n<title>134321048104576</title>\n<polygon fill=\"lightblue\" stroke=\"black\" points=\"532,-228 275,-228 275,-198 532,-198 532,-228\"/>\n<text text-anchor=\"middle\" x=\"403.5\" y=\"-216\" font-family=\"monospace\" font-size=\"10.00\">tensor([4., 5., 6.], requires_grad=True)</text>\n<text text-anchor=\"middle\" x=\"403.5\" y=\"-205\" font-family=\"monospace\" font-size=\"10.00\"> (3)</text>\n</g>\n<!-- 134321048104576&#45;&gt;134321050395232 -->\n<g id=\"edge4\" class=\"edge\">\n<title>134321048104576&#45;&gt;134321050395232</title>\n<path fill=\"none\" stroke=\"black\" d=\"M394.06,-197.84C388.63,-189.69 381.77,-179.4 376.02,-170.78\"/>\n<polygon fill=\"black\" stroke=\"black\" points=\"378.8,-168.65 370.34,-162.27 372.98,-172.53 378.8,-168.65\"/>\n</g>\n</g>\n</svg>\n",
            "text/plain": [
              "<graphviz.graphs.Digraph at 0x7a2a0e7e9f00>"
            ]
          },
          "metadata": {},
          "execution_count": 10
        }
      ]
    },
    {
      "cell_type": "code",
      "source": [
        "s = z.sum()"
      ],
      "metadata": {
        "id": "a6GPrDAeBiUO"
      },
      "execution_count": null,
      "outputs": []
    },
    {
      "cell_type": "code",
      "source": [
        "make_dot(s, params={x: x, y: y, z: z, s: s}, show_attrs=True, show_saved=True)"
      ],
      "metadata": {
        "colab": {
          "base_uri": "https://localhost:8080/",
          "height": 457
        },
        "id": "1FdLWHXUB3Xn",
        "outputId": "6780ac97-18ad-4503-ee77-b2f1173ddb90"
      },
      "execution_count": null,
      "outputs": [
        {
          "output_type": "execute_result",
          "data": {
            "image/svg+xml": "<?xml version=\"1.0\" encoding=\"UTF-8\" standalone=\"no\"?>\n<!DOCTYPE svg PUBLIC \"-//W3C//DTD SVG 1.1//EN\"\n \"http://www.w3.org/Graphics/SVG/1.1/DTD/svg11.dtd\">\n<!-- Generated by graphviz version 2.43.0 (0)\n -->\n<!-- Title: %3 Pages: 1 -->\n<svg width=\"540pt\" height=\"313pt\"\n viewBox=\"0.00 0.00 540.00 313.00\" xmlns=\"http://www.w3.org/2000/svg\" xmlns:xlink=\"http://www.w3.org/1999/xlink\">\n<g id=\"graph0\" class=\"graph\" transform=\"scale(1 1) rotate(0) translate(4 309)\">\n<title>%3</title>\n<polygon fill=\"white\" stroke=\"transparent\" points=\"-4,4 -4,-309 536,-309 536,4 -4,4\"/>\n<!-- 134321217360800 -->\n<g id=\"node1\" class=\"node\">\n<title>134321217360800</title>\n<polygon fill=\"#caff70\" stroke=\"black\" points=\"379,-30 152,-30 152,0 379,0 379,-30\"/>\n<text text-anchor=\"middle\" x=\"265.5\" y=\"-18\" font-family=\"monospace\" font-size=\"10.00\">tensor(21., grad_fn=&lt;SumBackward0&gt;)</text>\n<text text-anchor=\"middle\" x=\"265.5\" y=\"-7\" font-family=\"monospace\" font-size=\"10.00\"> ()</text>\n</g>\n<!-- 134324821165200 -->\n<g id=\"node2\" class=\"node\">\n<title>134324821165200</title>\n<polygon fill=\"lightgrey\" stroke=\"black\" points=\"334,-107 197,-107 197,-66 334,-66 334,-107\"/>\n<text text-anchor=\"middle\" x=\"265.5\" y=\"-95\" font-family=\"monospace\" font-size=\"10.00\">SumBackward0</text>\n<text text-anchor=\"middle\" x=\"265.5\" y=\"-84\" font-family=\"monospace\" font-size=\"10.00\">&#45;&#45;&#45;&#45;&#45;&#45;&#45;&#45;&#45;&#45;&#45;&#45;&#45;&#45;&#45;&#45;&#45;&#45;&#45;&#45;</text>\n<text text-anchor=\"middle\" x=\"265.5\" y=\"-73\" font-family=\"monospace\" font-size=\"10.00\">self_sym_sizes: (3,)</text>\n</g>\n<!-- 134324821165200&#45;&gt;134321217360800 -->\n<g id=\"edge6\" class=\"edge\">\n<title>134324821165200&#45;&gt;134321217360800</title>\n<path fill=\"none\" stroke=\"black\" d=\"M265.5,-65.77C265.5,-57.85 265.5,-48.63 265.5,-40.3\"/>\n<polygon fill=\"black\" stroke=\"black\" points=\"269,-40.04 265.5,-30.04 262,-40.04 269,-40.04\"/>\n</g>\n<!-- 134321050399504 -->\n<g id=\"node3\" class=\"node\">\n<title>134321050399504</title>\n<polygon fill=\"lightgrey\" stroke=\"black\" points=\"310,-184 221,-184 221,-143 310,-143 310,-184\"/>\n<text text-anchor=\"middle\" x=\"265.5\" y=\"-172\" font-family=\"monospace\" font-size=\"10.00\">AddBackward0</text>\n<text text-anchor=\"middle\" x=\"265.5\" y=\"-161\" font-family=\"monospace\" font-size=\"10.00\">&#45;&#45;&#45;&#45;&#45;&#45;&#45;&#45;&#45;&#45;&#45;&#45;</text>\n<text text-anchor=\"middle\" x=\"265.5\" y=\"-150\" font-family=\"monospace\" font-size=\"10.00\">alpha: 1</text>\n</g>\n<!-- 134321050399504&#45;&gt;134324821165200 -->\n<g id=\"edge1\" class=\"edge\">\n<title>134321050399504&#45;&gt;134324821165200</title>\n<path fill=\"none\" stroke=\"black\" d=\"M265.5,-142.79C265.5,-134.96 265.5,-125.77 265.5,-117.16\"/>\n<polygon fill=\"black\" stroke=\"black\" points=\"269,-117.07 265.5,-107.07 262,-117.07 269,-117.07\"/>\n</g>\n<!-- 134321050400656 -->\n<g id=\"node4\" class=\"node\">\n<title>134321050400656</title>\n<polygon fill=\"lightgrey\" stroke=\"black\" points=\"218,-239 117,-239 117,-220 218,-220 218,-239\"/>\n<text text-anchor=\"middle\" x=\"167.5\" y=\"-227\" font-family=\"monospace\" font-size=\"10.00\">AccumulateGrad</text>\n</g>\n<!-- 134321050400656&#45;&gt;134321050399504 -->\n<g id=\"edge2\" class=\"edge\">\n<title>134321050400656&#45;&gt;134321050399504</title>\n<path fill=\"none\" stroke=\"black\" d=\"M180.72,-219.87C192.64,-212.08 210.78,-200.24 227.22,-189.5\"/>\n<polygon fill=\"black\" stroke=\"black\" points=\"229.17,-192.41 235.63,-184.01 225.34,-186.55 229.17,-192.41\"/>\n</g>\n<!-- 134321051082064 -->\n<g id=\"node5\" class=\"node\">\n<title>134321051082064</title>\n<polygon fill=\"lightblue\" stroke=\"black\" points=\"257,-305 0,-305 0,-275 257,-275 257,-305\"/>\n<text text-anchor=\"middle\" x=\"128.5\" y=\"-293\" font-family=\"monospace\" font-size=\"10.00\">tensor([1., 2., 3.], requires_grad=True)</text>\n<text text-anchor=\"middle\" x=\"128.5\" y=\"-282\" font-family=\"monospace\" font-size=\"10.00\"> (3)</text>\n</g>\n<!-- 134321051082064&#45;&gt;134321050400656 -->\n<g id=\"edge3\" class=\"edge\">\n<title>134321051082064&#45;&gt;134321050400656</title>\n<path fill=\"none\" stroke=\"black\" d=\"M137.94,-274.84C143.37,-266.69 150.23,-256.4 155.98,-247.78\"/>\n<polygon fill=\"black\" stroke=\"black\" points=\"159.02,-249.53 161.66,-239.27 153.2,-245.65 159.02,-249.53\"/>\n</g>\n<!-- 134321050395184 -->\n<g id=\"node6\" class=\"node\">\n<title>134321050395184</title>\n<polygon fill=\"lightgrey\" stroke=\"black\" points=\"415,-239 314,-239 314,-220 415,-220 415,-239\"/>\n<text text-anchor=\"middle\" x=\"364.5\" y=\"-227\" font-family=\"monospace\" font-size=\"10.00\">AccumulateGrad</text>\n</g>\n<!-- 134321050395184&#45;&gt;134321050399504 -->\n<g id=\"edge4\" class=\"edge\">\n<title>134321050395184&#45;&gt;134321050399504</title>\n<path fill=\"none\" stroke=\"black\" d=\"M351.15,-219.87C339.1,-212.08 320.78,-200.24 304.17,-189.5\"/>\n<polygon fill=\"black\" stroke=\"black\" points=\"305.98,-186.5 295.68,-184.01 302.18,-192.38 305.98,-186.5\"/>\n</g>\n<!-- 134321048104576 -->\n<g id=\"node7\" class=\"node\">\n<title>134321048104576</title>\n<polygon fill=\"lightblue\" stroke=\"black\" points=\"532,-305 275,-305 275,-275 532,-275 532,-305\"/>\n<text text-anchor=\"middle\" x=\"403.5\" y=\"-293\" font-family=\"monospace\" font-size=\"10.00\">tensor([4., 5., 6.], requires_grad=True)</text>\n<text text-anchor=\"middle\" x=\"403.5\" y=\"-282\" font-family=\"monospace\" font-size=\"10.00\"> (3)</text>\n</g>\n<!-- 134321048104576&#45;&gt;134321050395184 -->\n<g id=\"edge5\" class=\"edge\">\n<title>134321048104576&#45;&gt;134321050395184</title>\n<path fill=\"none\" stroke=\"black\" d=\"M394.06,-274.84C388.63,-266.69 381.77,-256.4 376.02,-247.78\"/>\n<polygon fill=\"black\" stroke=\"black\" points=\"378.8,-245.65 370.34,-239.27 372.98,-249.53 378.8,-245.65\"/>\n</g>\n</g>\n</svg>\n",
            "text/plain": [
              "<graphviz.graphs.Digraph at 0x7a2a0e7ea260>"
            ]
          },
          "metadata": {},
          "execution_count": 12
        }
      ]
    },
    {
      "cell_type": "code",
      "source": [
        "s.backward()"
      ],
      "metadata": {
        "id": "bPtyC2mJCfGE"
      },
      "execution_count": null,
      "outputs": []
    },
    {
      "cell_type": "code",
      "source": [
        "x = torch.zeros(2, 3)\n",
        "print(x)\n",
        "\n",
        "y = torch.ones(2, 3)\n",
        "print(y)\n",
        "\n",
        "z = torch.tensor([[1, 2], [3, 4]])\n",
        "print(z)"
      ],
      "metadata": {
        "colab": {
          "base_uri": "https://localhost:8080/"
        },
        "id": "kQhqlEWwCm-l",
        "outputId": "1fad83bc-bd39-4916-f180-6fdd1e2e3d3e"
      },
      "execution_count": null,
      "outputs": [
        {
          "output_type": "stream",
          "name": "stdout",
          "text": [
            "tensor([[0., 0., 0.],\n",
            "        [0., 0., 0.]])\n",
            "tensor([[1., 1., 1.],\n",
            "        [1., 1., 1.]])\n",
            "tensor([[1, 2],\n",
            "        [3, 4]])\n"
          ]
        }
      ]
    },
    {
      "cell_type": "code",
      "source": [
        "x = torch.rand(2, 3, 4)\n",
        "print(x.dtype)\n",
        "print(x.size())"
      ],
      "metadata": {
        "colab": {
          "base_uri": "https://localhost:8080/"
        },
        "id": "z1USRx7_C4Bb",
        "outputId": "d8d1a9cf-92d0-4fb2-f610-b06cd35e7d56"
      },
      "execution_count": null,
      "outputs": [
        {
          "output_type": "stream",
          "name": "stdout",
          "text": [
            "torch.float32\n",
            "torch.Size([2, 3, 4])\n"
          ]
        }
      ]
    },
    {
      "cell_type": "code",
      "source": [
        "x"
      ],
      "metadata": {
        "colab": {
          "base_uri": "https://localhost:8080/"
        },
        "id": "4WFU9qJAC38R",
        "outputId": "296670dc-51b2-45db-afbe-64242e6d5491"
      },
      "execution_count": null,
      "outputs": [
        {
          "output_type": "execute_result",
          "data": {
            "text/plain": [
              "tensor([[[0.2993, 0.9856, 0.3483, 0.1401],\n",
              "         [0.6115, 0.2076, 0.4144, 0.5445],\n",
              "         [0.3035, 0.7599, 0.7765, 0.6372]],\n",
              "\n",
              "        [[0.4283, 0.5130, 0.8839, 0.9888],\n",
              "         [0.5064, 0.9550, 0.2673, 0.9152],\n",
              "         [0.2865, 0.9386, 0.6918, 0.6778]]])"
            ]
          },
          "metadata": {},
          "execution_count": 17
        }
      ]
    },
    {
      "cell_type": "markdown",
      "source": [
        "\n",
        "\n",
        "```\n",
        "텐서를 변화하는 과정\n",
        "```\n",
        "\n"
      ],
      "metadata": {
        "id": "zq0QUfdqEeJz"
      }
    },
    {
      "cell_type": "code",
      "source": [
        "x = torch.rand(4, 4)\n",
        "y = x.view(16)\n",
        "z = x.view(-1, 8) #-1은 차원을 추론하여 자동 계산한다는 의미\n",
        "\n",
        "print(y.size())\n",
        "print(z.size())"
      ],
      "metadata": {
        "colab": {
          "base_uri": "https://localhost:8080/"
        },
        "id": "1WwFus7aDNOR",
        "outputId": "777995f7-14f9-4398-e6a5-56fcb2b05c72"
      },
      "execution_count": null,
      "outputs": [
        {
          "output_type": "stream",
          "name": "stdout",
          "text": [
            "torch.Size([16])\n",
            "torch.Size([2, 8])\n"
          ]
        }
      ]
    },
    {
      "cell_type": "code",
      "source": [
        "y"
      ],
      "metadata": {
        "colab": {
          "base_uri": "https://localhost:8080/"
        },
        "id": "BN7k4qABDroD",
        "outputId": "0229061c-be9a-4af6-a1e0-2ed24bac9322"
      },
      "execution_count": null,
      "outputs": [
        {
          "output_type": "execute_result",
          "data": {
            "text/plain": [
              "tensor([0.5395, 0.6256, 0.7964, 0.9133, 0.1574, 0.9693, 0.9899, 0.2959, 0.0559,\n",
              "        0.9479, 0.3824, 0.6653, 0.8553, 0.7407, 0.5009, 0.1901])"
            ]
          },
          "metadata": {},
          "execution_count": 20
        }
      ]
    },
    {
      "cell_type": "code",
      "source": [
        "z"
      ],
      "metadata": {
        "colab": {
          "base_uri": "https://localhost:8080/"
        },
        "id": "MPeACKFkEXWW",
        "outputId": "819c672e-e6a2-463a-ca1d-6f1101aff4dd"
      },
      "execution_count": null,
      "outputs": [
        {
          "output_type": "execute_result",
          "data": {
            "text/plain": [
              "tensor([[0.5395, 0.6256, 0.7964, 0.9133, 0.1574, 0.9693, 0.9899, 0.2959],\n",
              "        [0.0559, 0.9479, 0.3824, 0.6653, 0.8553, 0.7407, 0.5009, 0.1901]])"
            ]
          },
          "metadata": {},
          "execution_count": 21
        }
      ]
    },
    {
      "cell_type": "code",
      "source": [
        "a = torch.tensor([[1, 2], [3, 4]])\n",
        "b = torch.tensor([[5,6]])\n",
        "c = torch.cat([a,b], dim=0) #dim=0은 행을 기준으로 병합을 한다는 뜻이다.\n",
        "print(c)"
      ],
      "metadata": {
        "colab": {
          "base_uri": "https://localhost:8080/"
        },
        "id": "nf_xz495El34",
        "outputId": "d44cd6d4-be59-4148-d2b5-b27dd28fc43b"
      },
      "execution_count": null,
      "outputs": [
        {
          "output_type": "stream",
          "name": "stdout",
          "text": [
            "tensor([[1, 2],\n",
            "        [3, 4],\n",
            "        [5, 6]])\n"
          ]
        }
      ]
    },
    {
      "cell_type": "code",
      "source": [
        "x = torch.tensor([1, 2, 3, 4])\n",
        "x1 = x.unsqueeze(0) #차원을 추가\n",
        "x2 = x1.unsqueeze(0) #차원을 제거\n",
        "print(x1)\n",
        "print(x2)"
      ],
      "metadata": {
        "colab": {
          "base_uri": "https://localhost:8080/"
        },
        "id": "vgvScfxWFIQb",
        "outputId": "876ed614-8dc8-4d8f-cc9d-c27ec492d43e"
      },
      "execution_count": null,
      "outputs": [
        {
          "output_type": "stream",
          "name": "stdout",
          "text": [
            "tensor([[1, 2, 3, 4]])\n",
            "tensor([[[1, 2, 3, 4]]])\n"
          ]
        }
      ]
    },
    {
      "cell_type": "code",
      "source": [
        "x = torch.tensor([[1, 2, 3], [4, 5, 6], [7, 8, 9]])\n",
        "print(x)\n",
        "print(x[0, :1]) #슬라이스 기능과 같다\n",
        "print(x[:, 1])\n",
        "print(x[1:, 1:])"
      ],
      "metadata": {
        "colab": {
          "base_uri": "https://localhost:8080/"
        },
        "id": "al9VI3yhFbAT",
        "outputId": "e0ea99ec-5e1e-4fe3-9130-86231b32805a"
      },
      "execution_count": null,
      "outputs": [
        {
          "output_type": "stream",
          "name": "stdout",
          "text": [
            "tensor([[1, 2, 3],\n",
            "        [4, 5, 6],\n",
            "        [7, 8, 9]])\n",
            "tensor([1])\n",
            "tensor([2, 5, 8])\n",
            "tensor([[5, 6],\n",
            "        [8, 9]])\n"
          ]
        }
      ]
    },
    {
      "cell_type": "code",
      "source": [
        "x = torch.tensor([[1, 2, 3], [4, 5, 6], [7, 8, 9], [10, 11, 12]])\n",
        "a, b = torch.split(x, 2, dim=0) #행을 기준으로, 2개씩 분리\n",
        "print(x)\n",
        "print(a)\n",
        "print(b)"
      ],
      "metadata": {
        "colab": {
          "base_uri": "https://localhost:8080/"
        },
        "id": "_6wTB5_JFy1T",
        "outputId": "89007106-3ece-45da-f689-a0c94fcae928"
      },
      "execution_count": null,
      "outputs": [
        {
          "output_type": "stream",
          "name": "stdout",
          "text": [
            "tensor([[ 1,  2,  3],\n",
            "        [ 4,  5,  6],\n",
            "        [ 7,  8,  9],\n",
            "        [10, 11, 12]])\n",
            "tensor([[1, 2, 3]])\n",
            "tensor([[4, 5, 6]])\n"
          ]
        }
      ]
    },
    {
      "cell_type": "code",
      "source": [
        "x = torch.tensor([[1, 2, 1], [3, 4, 1], [5, 6, 1]])\n",
        "print(x.transpose(0,1)) # 0번째와 1번째 차원을 전치"
      ],
      "metadata": {
        "colab": {
          "base_uri": "https://localhost:8080/"
        },
        "id": "kQ-_SM0ZGyOM",
        "outputId": "38402592-b59a-4fd4-f8c8-09b48b66acb2"
      },
      "execution_count": null,
      "outputs": [
        {
          "output_type": "stream",
          "name": "stdout",
          "text": [
            "tensor([[1, 3, 5],\n",
            "        [2, 4, 6],\n",
            "        [1, 1, 1]])\n"
          ]
        }
      ]
    },
    {
      "cell_type": "code",
      "source": [
        "class LinearModule(nn.Module) :\n",
        "  def __init__(self, input_dim, output_dim):\n",
        "    super().__init__()\n",
        "    self.fc = nn.Linear(input_dim, output_dim)\n",
        "\n",
        "  def forward(self, x):\n",
        "    return self.fc(x)"
      ],
      "metadata": {
        "id": "4utSsEYHdz0v"
      },
      "execution_count": null,
      "outputs": []
    },
    {
      "cell_type": "code",
      "source": [
        "#기본적인 모델 구성\n",
        "model = LinearModule(3, 2)\n",
        "x = torch.randn(10, 3)\n",
        "output = model(x)"
      ],
      "metadata": {
        "id": "LH4697ruecbl"
      },
      "execution_count": null,
      "outputs": []
    },
    {
      "cell_type": "code",
      "source": [
        "class XORModel(nn.Module):\n",
        "  def __init__(self):\n",
        "    super(XORModel, self).__init__()\n",
        "    self.layer1 = nn.Linear(2, 2)\n",
        "    self.layer2 = nn.Linear(2, 1)\n",
        "    self.sigmoid = nn.Sigmoid()\n",
        "\n",
        "  def forward(self, x):\n",
        "    x = self.sigmoid(self.layer1(x))\n",
        "    x = self.sigmoid(self.layer2(x))\n",
        "    return x"
      ],
      "metadata": {
        "id": "UO77yXVQex_q"
      },
      "execution_count": null,
      "outputs": []
    },
    {
      "cell_type": "code",
      "source": [
        "x_data = torch.tensor([[0, 0], [0, 1], [1, 0], [1, 1]], dtype=torch.float32)\n",
        "y_data = torch.tensor([[0],[1],[1],[0]], dtype=torch.float32)\n",
        "model = XORModel()\n",
        "\n",
        "criterion = nn.BCELoss()\n",
        "optimizer = optim.SGD(model.parameters(), lr=0.1)"
      ],
      "metadata": {
        "id": "ZwXnR9KOffuJ"
      },
      "execution_count": null,
      "outputs": []
    },
    {
      "cell_type": "code",
      "source": [
        "losses = []\n",
        "\n",
        "for epoch in range(10001):\n",
        "  outputs = model(x_data)\n",
        "  loss = criterion(outputs, y_data)\n",
        "  optimizer.zero_grad()\n",
        "  loss.backward()\n",
        "  optimizer.step()\n",
        "\n",
        "  losses.append(loss.item())\n",
        "  if epoch % 1000 == 0:\n",
        "    print(f'Epoch [{epoch}/1000], Loss: {loss.item():.4f}')"
      ],
      "metadata": {
        "colab": {
          "base_uri": "https://localhost:8080/"
        },
        "id": "U4p265tegXzj",
        "outputId": "f65d723a-223b-4f0b-91e6-35197609ac13"
      },
      "execution_count": null,
      "outputs": [
        {
          "output_type": "stream",
          "name": "stdout",
          "text": [
            "Epoch [0/1000], Loss: 0.0130\n",
            "Epoch [1000/1000], Loss: 0.0121\n",
            "Epoch [2000/1000], Loss: 0.0113\n",
            "Epoch [3000/1000], Loss: 0.0107\n",
            "Epoch [4000/1000], Loss: 0.0101\n",
            "Epoch [5000/1000], Loss: 0.0095\n",
            "Epoch [6000/1000], Loss: 0.0090\n",
            "Epoch [7000/1000], Loss: 0.0086\n",
            "Epoch [8000/1000], Loss: 0.0082\n",
            "Epoch [9000/1000], Loss: 0.0078\n",
            "Epoch [10000/1000], Loss: 0.0075\n"
          ]
        }
      ]
    },
    {
      "cell_type": "code",
      "source": [
        "#loss값 시각화\n",
        "plt.plot(losses)\n",
        "plt.xlabel('Epoch')\n",
        "plt.ylabel('Loss')\n",
        "plt.title('Training Loss')\n",
        "plt.show()"
      ],
      "metadata": {
        "colab": {
          "base_uri": "https://localhost:8080/",
          "height": 472
        },
        "id": "OYvjFAx1jzcW",
        "outputId": "7b539b70-cad0-4cd9-e320-440314b62c99"
      },
      "execution_count": null,
      "outputs": [
        {
          "output_type": "display_data",
          "data": {
            "text/plain": [
              "<Figure size 640x480 with 1 Axes>"
            ],
            "image/png": "[encoded data removed]"
          },
          "metadata": {}
        }
      ]
    },
    {
      "cell_type": "code",
      "source": [
        "with torch.no_grad():\n",
        "  test = torch.tensor([[0, 0], [0, 1], [1, 0], [1,1]], dtype=torch.float32)\n",
        "  predicted = model(test)\n",
        "  print(predicted)"
      ],
      "metadata": {
        "colab": {
          "base_uri": "https://localhost:8080/"
        },
        "id": "8slPMmBzkcuf",
        "outputId": "a4f26159-66c1-4ff0-97bf-9ff6b4366267"
      },
      "execution_count": null,
      "outputs": [
        {
          "output_type": "stream",
          "name": "stdout",
          "text": [
            "tensor([[0.0084],\n",
            "        [0.9937],\n",
            "        [0.9937],\n",
            "        [0.0089]])\n"
          ]
        }
      ]
    },
    {
      "cell_type": "code",
      "source": [
        "x = torch.randn(1, 2)\n",
        "y = model(x)\n",
        "make_dot(y, params={**dict(model.named_parameters()), y: y})"
      ],
      "metadata": {
        "colab": {
          "base_uri": "https://localhost:8080/",
          "height": 643
        },
        "id": "mn3WHvCCk5TY",
        "outputId": "d5c7514e-e263-4cda-a896-f036a48019dc"
      },
      "execution_count": null,
      "outputs": [
        {
          "output_type": "execute_result",
          "data": {
            "image/svg+xml": "<?xml version=\"1.0\" encoding=\"UTF-8\" standalone=\"no\"?>\n<!DOCTYPE svg PUBLIC \"-//W3C//DTD SVG 1.1//EN\"\n \"http://www.w3.org/Graphics/SVG/1.1/DTD/svg11.dtd\">\n<!-- Generated by graphviz version 2.43.0 (0)\n -->\n<!-- Title: %3 Pages: 1 -->\n<svg width=\"351pt\" height=\"467pt\"\n viewBox=\"0.00 0.00 351.00 467.00\" xmlns=\"http://www.w3.org/2000/svg\" xmlns:xlink=\"http://www.w3.org/1999/xlink\">\n<g id=\"graph0\" class=\"graph\" transform=\"scale(1 1) rotate(0) translate(4 463)\">\n<title>%3</title>\n<polygon fill=\"white\" stroke=\"transparent\" points=\"-4,4 -4,-463 347,-463 347,4 -4,4\"/>\n<!-- 132473631888528 -->\n<g id=\"node1\" class=\"node\">\n<title>132473631888528</title>\n<polygon fill=\"#caff70\" stroke=\"black\" points=\"322,-30 29,-30 29,0 322,0 322,-30\"/>\n<text text-anchor=\"middle\" x=\"175.5\" y=\"-18\" font-family=\"monospace\" font-size=\"10.00\">tensor([[0.0063]], grad_fn=&lt;SigmoidBackward0&gt;)</text>\n<text text-anchor=\"middle\" x=\"175.5\" y=\"-7\" font-family=\"monospace\" font-size=\"10.00\"> (1, 1)</text>\n</g>\n<!-- 132473636940640 -->\n<g id=\"node2\" class=\"node\">\n<title>132473636940640</title>\n<polygon fill=\"lightgrey\" stroke=\"black\" points=\"232,-85 119,-85 119,-66 232,-66 232,-85\"/>\n<text text-anchor=\"middle\" x=\"175.5\" y=\"-73\" font-family=\"monospace\" font-size=\"10.00\">SigmoidBackward0</text>\n</g>\n<!-- 132473636940640&#45;&gt;132473631888528 -->\n<g id=\"edge14\" class=\"edge\">\n<title>132473636940640&#45;&gt;132473631888528</title>\n<path fill=\"none\" stroke=\"black\" d=\"M175.5,-65.87C175.5,-59.11 175.5,-49.35 175.5,-40.26\"/>\n<polygon fill=\"black\" stroke=\"black\" points=\"179,-40.11 175.5,-30.11 172,-40.11 179,-40.11\"/>\n</g>\n<!-- 132473636935744 -->\n<g id=\"node3\" class=\"node\">\n<title>132473636935744</title>\n<polygon fill=\"lightgrey\" stroke=\"black\" points=\"226,-140 125,-140 125,-121 226,-121 226,-140\"/>\n<text text-anchor=\"middle\" x=\"175.5\" y=\"-128\" font-family=\"monospace\" font-size=\"10.00\">AddmmBackward0</text>\n</g>\n<!-- 132473636935744&#45;&gt;132473636940640 -->\n<g id=\"edge1\" class=\"edge\">\n<title>132473636935744&#45;&gt;132473636940640</title>\n<path fill=\"none\" stroke=\"black\" d=\"M175.5,-120.75C175.5,-113.8 175.5,-103.85 175.5,-95.13\"/>\n<polygon fill=\"black\" stroke=\"black\" points=\"179,-95.09 175.5,-85.09 172,-95.09 179,-95.09\"/>\n</g>\n<!-- 132473636932960 -->\n<g id=\"node4\" class=\"node\">\n<title>132473636932960</title>\n<polygon fill=\"lightgrey\" stroke=\"black\" points=\"101,-195 0,-195 0,-176 101,-176 101,-195\"/>\n<text text-anchor=\"middle\" x=\"50.5\" y=\"-183\" font-family=\"monospace\" font-size=\"10.00\">AccumulateGrad</text>\n</g>\n<!-- 132473636932960&#45;&gt;132473636935744 -->\n<g id=\"edge2\" class=\"edge\">\n<title>132473636932960&#45;&gt;132473636935744</title>\n<path fill=\"none\" stroke=\"black\" d=\"M70.58,-175.98C90.87,-167.38 122.46,-153.99 145.67,-144.15\"/>\n<polygon fill=\"black\" stroke=\"black\" points=\"147.21,-147.3 155.05,-140.17 144.48,-140.85 147.21,-147.3\"/>\n</g>\n<!-- 132473678464400 -->\n<g id=\"node5\" class=\"node\">\n<title>132473678464400</title>\n<polygon fill=\"lightblue\" stroke=\"black\" points=\"92,-261 9,-261 9,-231 92,-231 92,-261\"/>\n<text text-anchor=\"middle\" x=\"50.5\" y=\"-249\" font-family=\"monospace\" font-size=\"10.00\">layer2.bias</text>\n<text text-anchor=\"middle\" x=\"50.5\" y=\"-238\" font-family=\"monospace\" font-size=\"10.00\"> (1)</text>\n</g>\n<!-- 132473678464400&#45;&gt;132473636932960 -->\n<g id=\"edge3\" class=\"edge\">\n<title>132473678464400&#45;&gt;132473636932960</title>\n<path fill=\"none\" stroke=\"black\" d=\"M50.5,-230.84C50.5,-223.21 50.5,-213.7 50.5,-205.45\"/>\n<polygon fill=\"black\" stroke=\"black\" points=\"54,-205.27 50.5,-195.27 47,-205.27 54,-205.27\"/>\n</g>\n<!-- 132473636939200 -->\n<g id=\"node6\" class=\"node\">\n<title>132473636939200</title>\n<polygon fill=\"lightgrey\" stroke=\"black\" points=\"232,-195 119,-195 119,-176 232,-176 232,-195\"/>\n<text text-anchor=\"middle\" x=\"175.5\" y=\"-183\" font-family=\"monospace\" font-size=\"10.00\">SigmoidBackward0</text>\n</g>\n<!-- 132473636939200&#45;&gt;132473636935744 -->\n<g id=\"edge4\" class=\"edge\">\n<title>132473636939200&#45;&gt;132473636935744</title>\n<path fill=\"none\" stroke=\"black\" d=\"M175.5,-175.75C175.5,-168.8 175.5,-158.85 175.5,-150.13\"/>\n<polygon fill=\"black\" stroke=\"black\" points=\"179,-150.09 175.5,-140.09 172,-150.09 179,-150.09\"/>\n</g>\n<!-- 132473636936128 -->\n<g id=\"node7\" class=\"node\">\n<title>132473636936128</title>\n<polygon fill=\"lightgrey\" stroke=\"black\" points=\"224,-255.5 123,-255.5 123,-236.5 224,-236.5 224,-255.5\"/>\n<text text-anchor=\"middle\" x=\"173.5\" y=\"-243.5\" font-family=\"monospace\" font-size=\"10.00\">AddmmBackward0</text>\n</g>\n<!-- 132473636936128&#45;&gt;132473636939200 -->\n<g id=\"edge5\" class=\"edge\">\n<title>132473636936128&#45;&gt;132473636939200</title>\n<path fill=\"none\" stroke=\"black\" d=\"M173.8,-236.37C174.07,-228.25 174.5,-215.81 174.85,-205.39\"/>\n<polygon fill=\"black\" stroke=\"black\" points=\"178.36,-205.28 175.2,-195.17 171.36,-205.04 178.36,-205.28\"/>\n</g>\n<!-- 132473636932144 -->\n<g id=\"node8\" class=\"node\">\n<title>132473636932144</title>\n<polygon fill=\"lightgrey\" stroke=\"black\" points=\"123,-321.5 22,-321.5 22,-302.5 123,-302.5 123,-321.5\"/>\n<text text-anchor=\"middle\" x=\"72.5\" y=\"-309.5\" font-family=\"monospace\" font-size=\"10.00\">AccumulateGrad</text>\n</g>\n<!-- 132473636932144&#45;&gt;132473636936128 -->\n<g id=\"edge6\" class=\"edge\">\n<title>132473636932144&#45;&gt;132473636936128</title>\n<path fill=\"none\" stroke=\"black\" d=\"M86.12,-302.37C102.84,-291.78 131.41,-273.67 151.31,-261.06\"/>\n<polygon fill=\"black\" stroke=\"black\" points=\"153.2,-264.01 159.77,-255.7 149.45,-258.1 153.2,-264.01\"/>\n</g>\n<!-- 132473678067840 -->\n<g id=\"node9\" class=\"node\">\n<title>132473678067840</title>\n<polygon fill=\"lightblue\" stroke=\"black\" points=\"113,-393 30,-393 30,-363 113,-363 113,-393\"/>\n<text text-anchor=\"middle\" x=\"71.5\" y=\"-381\" font-family=\"monospace\" font-size=\"10.00\">layer1.bias</text>\n<text text-anchor=\"middle\" x=\"71.5\" y=\"-370\" font-family=\"monospace\" font-size=\"10.00\"> (2)</text>\n</g>\n<!-- 132473678067840&#45;&gt;132473636932144 -->\n<g id=\"edge7\" class=\"edge\">\n<title>132473678067840&#45;&gt;132473636932144</title>\n<path fill=\"none\" stroke=\"black\" d=\"M71.72,-362.8C71.86,-353.7 72.05,-341.79 72.2,-331.9\"/>\n<polygon fill=\"black\" stroke=\"black\" points=\"75.71,-331.9 72.36,-321.84 68.71,-331.79 75.71,-331.9\"/>\n</g>\n<!-- 132473636942992 -->\n<g id=\"node10\" class=\"node\">\n<title>132473636942992</title>\n<polygon fill=\"lightgrey\" stroke=\"black\" points=\"219,-321.5 142,-321.5 142,-302.5 219,-302.5 219,-321.5\"/>\n<text text-anchor=\"middle\" x=\"180.5\" y=\"-309.5\" font-family=\"monospace\" font-size=\"10.00\">TBackward0</text>\n</g>\n<!-- 132473636942992&#45;&gt;132473636936128 -->\n<g id=\"edge8\" class=\"edge\">\n<title>132473636942992&#45;&gt;132473636936128</title>\n<path fill=\"none\" stroke=\"black\" d=\"M179.56,-302.37C178.54,-293.07 176.89,-277.98 175.57,-265.9\"/>\n<polygon fill=\"black\" stroke=\"black\" points=\"179.04,-265.47 174.47,-255.91 172.08,-266.23 179.04,-265.47\"/>\n</g>\n<!-- 132473636933344 -->\n<g id=\"node11\" class=\"node\">\n<title>132473636933344</title>\n<polygon fill=\"lightgrey\" stroke=\"black\" points=\"232,-387.5 131,-387.5 131,-368.5 232,-368.5 232,-387.5\"/>\n<text text-anchor=\"middle\" x=\"181.5\" y=\"-375.5\" font-family=\"monospace\" font-size=\"10.00\">AccumulateGrad</text>\n</g>\n<!-- 132473636933344&#45;&gt;132473636942992 -->\n<g id=\"edge9\" class=\"edge\">\n<title>132473636933344&#45;&gt;132473636942992</title>\n<path fill=\"none\" stroke=\"black\" d=\"M181.37,-368.37C181.22,-359.16 180.99,-344.29 180.8,-332.27\"/>\n<polygon fill=\"black\" stroke=\"black\" points=\"184.3,-331.85 180.64,-321.91 177.3,-331.96 184.3,-331.85\"/>\n</g>\n<!-- 132473679574928 -->\n<g id=\"node12\" class=\"node\">\n<title>132473679574928</title>\n<polygon fill=\"lightblue\" stroke=\"black\" points=\"229,-459 134,-459 134,-429 229,-429 229,-459\"/>\n<text text-anchor=\"middle\" x=\"181.5\" y=\"-447\" font-family=\"monospace\" font-size=\"10.00\">layer1.weight</text>\n<text text-anchor=\"middle\" x=\"181.5\" y=\"-436\" font-family=\"monospace\" font-size=\"10.00\"> (2, 2)</text>\n</g>\n<!-- 132473679574928&#45;&gt;132473636933344 -->\n<g id=\"edge10\" class=\"edge\">\n<title>132473679574928&#45;&gt;132473636933344</title>\n<path fill=\"none\" stroke=\"black\" d=\"M181.5,-428.8C181.5,-419.7 181.5,-407.79 181.5,-397.9\"/>\n<polygon fill=\"black\" stroke=\"black\" points=\"185,-397.84 181.5,-387.84 178,-397.84 185,-397.84\"/>\n</g>\n<!-- 132473636933680 -->\n<g id=\"node13\" class=\"node\">\n<title>132473636933680</title>\n<polygon fill=\"lightgrey\" stroke=\"black\" points=\"328,-195 251,-195 251,-176 328,-176 328,-195\"/>\n<text text-anchor=\"middle\" x=\"289.5\" y=\"-183\" font-family=\"monospace\" font-size=\"10.00\">TBackward0</text>\n</g>\n<!-- 132473636933680&#45;&gt;132473636935744 -->\n<g id=\"edge11\" class=\"edge\">\n<title>132473636933680&#45;&gt;132473636935744</title>\n<path fill=\"none\" stroke=\"black\" d=\"M271.18,-175.98C252.84,-167.46 224.39,-154.23 203.27,-144.41\"/>\n<polygon fill=\"black\" stroke=\"black\" points=\"204.69,-141.21 194.15,-140.17 201.74,-147.56 204.69,-141.21\"/>\n</g>\n<!-- 132473636931328 -->\n<g id=\"node14\" class=\"node\">\n<title>132473636931328</title>\n<polygon fill=\"lightgrey\" stroke=\"black\" points=\"343,-255.5 242,-255.5 242,-236.5 343,-236.5 343,-255.5\"/>\n<text text-anchor=\"middle\" x=\"292.5\" y=\"-243.5\" font-family=\"monospace\" font-size=\"10.00\">AccumulateGrad</text>\n</g>\n<!-- 132473636931328&#45;&gt;132473636933680 -->\n<g id=\"edge12\" class=\"edge\">\n<title>132473636931328&#45;&gt;132473636933680</title>\n<path fill=\"none\" stroke=\"black\" d=\"M292.06,-236.37C291.64,-228.25 291,-215.81 290.47,-205.39\"/>\n<polygon fill=\"black\" stroke=\"black\" points=\"293.95,-204.97 289.94,-195.17 286.96,-205.33 293.95,-204.97\"/>\n</g>\n<!-- 132473685278640 -->\n<g id=\"node15\" class=\"node\">\n<title>132473685278640</title>\n<polygon fill=\"lightblue\" stroke=\"black\" points=\"340,-327 245,-327 245,-297 340,-297 340,-327\"/>\n<text text-anchor=\"middle\" x=\"292.5\" y=\"-315\" font-family=\"monospace\" font-size=\"10.00\">layer2.weight</text>\n<text text-anchor=\"middle\" x=\"292.5\" y=\"-304\" font-family=\"monospace\" font-size=\"10.00\"> (1, 2)</text>\n</g>\n<!-- 132473685278640&#45;&gt;132473636931328 -->\n<g id=\"edge13\" class=\"edge\">\n<title>132473685278640&#45;&gt;132473636931328</title>\n<path fill=\"none\" stroke=\"black\" d=\"M292.5,-296.8C292.5,-287.7 292.5,-275.79 292.5,-265.9\"/>\n<polygon fill=\"black\" stroke=\"black\" points=\"296,-265.84 292.5,-255.84 289,-265.84 296,-265.84\"/>\n</g>\n</g>\n</svg>\n",
            "text/plain": [
              "<graphviz.graphs.Digraph at 0x787bec265de0>"
            ]
          },
          "metadata": {},
          "execution_count": 23
        }
      ]
    }
  ]
}